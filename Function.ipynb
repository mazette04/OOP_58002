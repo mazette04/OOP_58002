{
  "nbformat": 4,
  "nbformat_minor": 0,
  "metadata": {
    "colab": {
      "provenance": [],
      "authorship_tag": "ABX9TyM0qfsjz+ot5EIV2cwfIl9y",
      "include_colab_link": true
    },
    "kernelspec": {
      "name": "python3",
      "display_name": "Python 3"
    },
    "language_info": {
      "name": "python"
    }
  },
  "cells": [
    {
      "cell_type": "markdown",
      "metadata": {
        "id": "view-in-github",
        "colab_type": "text"
      },
      "source": [
        "<a href=\"https://colab.research.google.com/github/mazette04/OOP_58002/blob/main/Function.ipynb\" target=\"_parent\"><img src=\"https://colab.research.google.com/assets/colab-badge.svg\" alt=\"Open In Colab\"/></a>"
      ]
    },
    {
      "cell_type": "code",
      "execution_count": 11,
      "metadata": {
        "colab": {
          "base_uri": "https://localhost:8080/"
        },
        "id": "zsnXBWujzacs",
        "outputId": "5721c031-49c3-4e31-e589-1c25e8931ed3"
      },
      "outputs": [
        {
          "output_type": "execute_result",
          "data": {
            "text/plain": [
              "50"
            ]
          },
          "metadata": {},
          "execution_count": 11
        }
      ],
      "source": [
        "class Shape:\n",
        "  def __init__(self, length, width):\n",
        "    self.length = length\n",
        "    self.width = width\n",
        "  \n",
        "  def area_rec(self):\n",
        "    return self.length * self.width \n",
        "  #def area_sqr(self,side):\n",
        "   # return self.side *self.side\n",
        "\n",
        "rectangle = Shape(10,5)\n",
        "rectangle.area_rec()\n",
        "\n"
      ]
    },
    {
      "cell_type": "markdown",
      "source": [
        "Create a function that will display your full name and name your class as Person"
      ],
      "metadata": {
        "id": "tNozhpa-3Xp1"
      }
    },
    {
      "cell_type": "code",
      "source": [
        "def name():\n",
        "  return \"Mam Sayo\"\n",
        "print(\"My name is\" + name())"
      ],
      "metadata": {
        "colab": {
          "base_uri": "https://localhost:8080/"
        },
        "id": "OjXXO3Ja6Nhe",
        "outputId": "d0eb0c27-03a6-4bb6-fe99-83f4816087be"
      },
      "execution_count": 13,
      "outputs": [
        {
          "output_type": "stream",
          "name": "stdout",
          "text": [
            "My name isMam Sayo\n"
          ]
        }
      ]
    }
  ]
}