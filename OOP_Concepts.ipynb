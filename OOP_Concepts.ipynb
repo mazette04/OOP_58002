{
  "nbformat": 4,
  "nbformat_minor": 0,
  "metadata": {
    "colab": {
      "provenance": [],
      "authorship_tag": "ABX9TyO5tpiemZzvRZY3Z6OXeE4G",
      "include_colab_link": true
    },
    "kernelspec": {
      "name": "python3",
      "display_name": "Python 3"
    },
    "language_info": {
      "name": "python"
    }
  },
  "cells": [
    {
      "cell_type": "markdown",
      "metadata": {
        "id": "view-in-github",
        "colab_type": "text"
      },
      "source": [
        "<a href=\"https://colab.research.google.com/github/mazette04/OOP_58002/blob/main/OOP_Concepts.ipynb\" target=\"_parent\"><img src=\"https://colab.research.google.com/assets/colab-badge.svg\" alt=\"Open In Colab\"/></a>"
      ]
    },
    {
      "cell_type": "code",
      "execution_count": 2,
      "metadata": {
        "colab": {
          "base_uri": "https://localhost:8080/"
        },
        "id": "-kqoJRXrrepZ",
        "outputId": "7617d1c0-f17c-47f9-f220-16ebe231212b"
      },
      "outputs": [
        {
          "output_type": "stream",
          "name": "stdout",
          "text": [
            "4\n"
          ]
        }
      ],
      "source": [
        "#Creation of Class\n",
        "\n",
        "class myClass:      #name of class\n",
        "  y = 4             #property name\n",
        "\n",
        "p1 = myClass()        #create an object named p1\n",
        "print(p1.y)           #print the value of y\n"
      ]
    },
    {
      "cell_type": "code",
      "source": [
        "class myclass:\n",
        "  pass"
      ],
      "metadata": {
        "id": "9eleigCmxzSQ"
      },
      "execution_count": 3,
      "outputs": []
    },
    {
      "cell_type": "code",
      "source": [
        "#Creation of Method\n",
        "\n",
        "class Persons:\n",
        "  def __init__(self,name):\n",
        "    self.name = name\n",
        "   # self.age = age\n",
        "\n",
        "  def myfunction(self):\n",
        "    print(\"Hello, my name is\", self.name)\n",
        "\n",
        "teacher = Persons(\"Maria\")\n",
        "teacher.myfunction()"
      ],
      "metadata": {
        "colab": {
          "base_uri": "https://localhost:8080/"
        },
        "id": "o-NlJdsZyBBl",
        "outputId": "cc03a4a5-26ad-4909-f4a5-f56599db0fa1"
      },
      "execution_count": 13,
      "outputs": [
        {
          "output_type": "stream",
          "name": "stdout",
          "text": [
            "Hello, my name is Maria\n"
          ]
        }
      ]
    },
    {
      "cell_type": "code",
      "source": [
        "#Modification of Object Properties\n",
        "teacher.name = \"Ana\"\n",
        "teacher.myfunction()"
      ],
      "metadata": {
        "colab": {
          "base_uri": "https://localhost:8080/"
        },
        "id": "-m1YmjoVzdMt",
        "outputId": "03eca216-4b0e-42dc-dec5-14ea36a32b9a"
      },
      "execution_count": 14,
      "outputs": [
        {
          "output_type": "stream",
          "name": "stdout",
          "text": [
            "Hello, my name is Ana\n"
          ]
        }
      ]
    },
    {
      "cell_type": "code",
      "source": [
        "#Deletion of Object Properties\n",
        "\n",
        "print(teacher.name)\n"
      ],
      "metadata": {
        "colab": {
          "base_uri": "https://localhost:8080/"
        },
        "id": "UvmnsmCyz1FQ",
        "outputId": "7b12e308-6c08-4b61-e89f-8a295d07eaf4"
      },
      "execution_count": 17,
      "outputs": [
        {
          "output_type": "stream",
          "name": "stdout",
          "text": [
            "Ana\n"
          ]
        }
      ]
    },
    {
      "cell_type": "code",
      "source": [
        "class Shapes:\n",
        "  def __init__(self,side1,side2):\n",
        "    self.side1 = side1\n",
        "    self.side2 = side2\n",
        "\n",
        "  def area_rectangle(self):\n",
        "    return self.side1 * self.side2\n",
        "\n",
        "  def display_rectangle(self):\n",
        "    print(\"The area of the rectangle is\",self.area_rectangle())\n",
        "\n",
        "rectangle = Shapes(10,5)\n",
        "\n",
        "rectangle.display_rectangle()\n",
        "\n"
      ],
      "metadata": {
        "colab": {
          "base_uri": "https://localhost:8080/"
        },
        "id": "7LUVEhX70rtt",
        "outputId": "63ede76f-4f09-459f-9e0c-771f8b054cde"
      },
      "execution_count": 43,
      "outputs": [
        {
          "output_type": "stream",
          "name": "stdout",
          "text": [
            "The area of the rectangle is 50\n"
          ]
        }
      ]
    },
    {
      "cell_type": "code",
      "source": [
        "#Inheritance\n",
        "\n",
        "class Shapes:\n",
        "  def __init__(self,side1,side2):\n",
        "    self.side1 = side1\n",
        "    self.side2 = side2\n",
        "  \n",
        "class Square(Shapes):\n",
        "  def area_square(self):\n",
        "    return self.side1*self.side1\n",
        "  def display_square(self):\n",
        "    print(\"The area of square is\",self.area_square())\n",
        "\n",
        "\n",
        "class Rectangle(Shapes):\n",
        "  def area_rectangle(self):\n",
        "    print(self.side1*self.side2)\n",
        "  def display_rectangle(self):\n",
        "    print(\"The area of rectangle is\",self.display_rectangle())\n",
        "\n",
        "square = Square(4,4)\n",
        "\n",
        "rectangle = Rectangle(10,5)\n",
        "\n",
        "square.display_square()\n",
        "rectangle.display_rectangle()\n",
        "\n",
        "\n",
        "\n"
      ],
      "metadata": {
        "id": "AffubRr37f59"
      },
      "execution_count": null,
      "outputs": []
    },
    {
      "cell_type": "code",
      "source": [
        "# Create your own Python program that has the following:\n",
        "# Person as class name\n",
        "# Fullname, age, and school as attributes\n",
        "# Identity() as method to display your fullname, age, and school\n",
        "# person as object name"
      ],
      "metadata": {
        "id": "vvGDXhut-Z7z"
      },
      "execution_count": null,
      "outputs": []
    }
  ]
}